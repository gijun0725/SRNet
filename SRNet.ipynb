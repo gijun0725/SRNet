{
  "cells": [
    {
      "cell_type": "markdown",
      "metadata": {
        "id": "view-in-github",
        "colab_type": "text"
      },
      "source": [
        "<a href=\"https://colab.research.google.com/github/gijun0725/SRNet/blob/main/SRNet.ipynb\" target=\"_parent\"><img src=\"https://colab.research.google.com/assets/colab-badge.svg\" alt=\"Open In Colab\"/></a>"
      ]
    },
    {
      "cell_type": "markdown",
      "source": [],
      "metadata": {
        "id": "j-tPl_eciaTY"
      }
    },
    {
      "cell_type": "code",
      "source": [
        "%cd /content"
      ],
      "metadata": {
        "colab": {
          "base_uri": "https://localhost:8080/"
        },
        "id": "w1Nah4tEdZuz",
        "outputId": "81071408-7691-46a1-fea9-ba2bacc605d5"
      },
      "execution_count": 1,
      "outputs": [
        {
          "output_type": "stream",
          "name": "stdout",
          "text": [
            "/content\n"
          ]
        }
      ]
    },
    {
      "cell_type": "code",
      "execution_count": 2,
      "metadata": {
        "colab": {
          "base_uri": "https://localhost:8080/"
        },
        "id": "ZKgQ3zcUahd_",
        "outputId": "ab150b99-d98c-4e06-c357-a5b7dd073b96"
      },
      "outputs": [
        {
          "output_type": "stream",
          "name": "stdout",
          "text": [
            "Cloning into 'SRNet'...\n",
            "remote: Enumerating objects: 243, done.\u001b[K\n",
            "remote: Counting objects: 100% (61/61), done.\u001b[K\n",
            "remote: Compressing objects: 100% (25/25), done.\u001b[K\n",
            "remote: Total 243 (delta 47), reused 36 (delta 36), pack-reused 182\u001b[K\n",
            "Receiving objects: 100% (243/243), 3.66 MiB | 10.32 MiB/s, done.\n",
            "Resolving deltas: 100% (126/126), done.\n"
          ]
        }
      ],
      "source": [
        "!git clone https://github.com/Niwhskal/SRNet.git"
      ]
    },
    {
      "cell_type": "code",
      "source": [
        "%cd /content/SRNet"
      ],
      "metadata": {
        "colab": {
          "base_uri": "https://localhost:8080/"
        },
        "id": "yevziPSAfwlj",
        "outputId": "b3b434df-09e9-46df-843b-667970442bce"
      },
      "execution_count": 3,
      "outputs": [
        {
          "output_type": "stream",
          "name": "stdout",
          "text": [
            "/content/SRNet\n"
          ]
        }
      ]
    },
    {
      "cell_type": "code",
      "source": [
        "!pip3 install -r requirements.txt"
      ],
      "metadata": {
        "colab": {
          "base_uri": "https://localhost:8080/",
          "height": 1000
        },
        "id": "3BILu2EKhDdv",
        "outputId": "6a8e6914-58cc-4cee-df8b-ca5c8bd7e556"
      },
      "execution_count": 4,
      "outputs": [
        {
          "output_type": "stream",
          "name": "stdout",
          "text": [
            "Looking in indexes: https://pypi.org/simple, https://us-python.pkg.dev/colab-wheels/public/simple/\n",
            "Collecting Augmentor==0.2.8 (from -r requirements.txt (line 1))\n",
            "  Downloading Augmentor-0.2.8-py2.py3-none-any.whl (38 kB)\n",
            "Collecting autograd==1.3 (from -r requirements.txt (line 2))\n",
            "  Downloading autograd-1.3.tar.gz (38 kB)\n",
            "  Preparing metadata (setup.py) ... \u001b[?25l\u001b[?25hdone\n",
            "Collecting cloudpickle==1.5.0 (from -r requirements.txt (line 3))\n",
            "  Downloading cloudpickle-1.5.0-py3-none-any.whl (22 kB)\n",
            "Collecting fastprogress==0.2.4 (from -r requirements.txt (line 4))\n",
            "  Downloading fastprogress-0.2.4-py3-none-any.whl (12 kB)\n",
            "Collecting graphviz==0.10.1 (from -r requirements.txt (line 5))\n",
            "  Downloading graphviz-0.10.1-py2.py3-none-any.whl (16 kB)\n",
            "Collecting image==1.5.32 (from -r requirements.txt (line 6))\n",
            "  Downloading image-1.5.32.tar.gz (15 kB)\n",
            "  Preparing metadata (setup.py) ... \u001b[?25l\u001b[?25hdone\n",
            "Collecting imageio==2.5.0 (from -r requirements.txt (line 7))\n",
            "  Downloading imageio-2.5.0-py3-none-any.whl (3.3 MB)\n",
            "\u001b[2K     \u001b[90m━━━━━━━━━━━━━━━━━━━━━━━━━━━━━━━━━━━━━━━━\u001b[0m \u001b[32m3.3/3.3 MB\u001b[0m \u001b[31m77.2 MB/s\u001b[0m eta \u001b[36m0:00:00\u001b[0m\n",
            "\u001b[?25hCollecting imagesize==1.2.0 (from -r requirements.txt (line 8))\n",
            "  Downloading imagesize-1.2.0-py2.py3-none-any.whl (4.8 kB)\n",
            "Collecting librosa==0.6.3 (from -r requirements.txt (line 9))\n",
            "  Downloading librosa-0.6.3.tar.gz (1.6 MB)\n",
            "\u001b[2K     \u001b[90m━━━━━━━━━━━━━━━━━━━━━━━━━━━━━━━━━━━━━━━━\u001b[0m \u001b[32m1.6/1.6 MB\u001b[0m \u001b[31m80.3 MB/s\u001b[0m eta \u001b[36m0:00:00\u001b[0m\n",
            "\u001b[?25h  Preparing metadata (setup.py) ... \u001b[?25l\u001b[?25hdone\n",
            "Collecting lmdb==0.98 (from -r requirements.txt (line 10))\n",
            "  Downloading lmdb-0.98.tar.gz (869 kB)\n",
            "\u001b[2K     \u001b[90m━━━━━━━━━━━━━━━━━━━━━━━━━━━━━━━━━━━━━━\u001b[0m \u001b[32m869.9/869.9 kB\u001b[0m \u001b[31m62.1 MB/s\u001b[0m eta \u001b[36m0:00:00\u001b[0m\n",
            "\u001b[?25h  Preparing metadata (setup.py) ... \u001b[?25l\u001b[?25hdone\n",
            "Collecting matplotlib-venn==0.11.5 (from -r requirements.txt (line 11))\n",
            "  Downloading matplotlib-venn-0.11.5.zip (40 kB)\n",
            "\u001b[2K     \u001b[90m━━━━━━━━━━━━━━━━━━━━━━━━━━━━━━━━━━━━━━━━\u001b[0m \u001b[32m40.4/40.4 kB\u001b[0m \u001b[31m5.1 MB/s\u001b[0m eta \u001b[36m0:00:00\u001b[0m\n",
            "\u001b[?25h  Preparing metadata (setup.py) ... \u001b[?25l\u001b[?25hdone\n",
            "Collecting numexpr==2.7.1 (from -r requirements.txt (line 12))\n",
            "  Downloading numexpr-2.7.1.tar.gz (99 kB)\n",
            "\u001b[2K     \u001b[90m━━━━━━━━━━━━━━━━━━━━━━━━━━━━━━━━━━━━━━━━\u001b[0m \u001b[32m99.2/99.2 kB\u001b[0m \u001b[31m12.8 MB/s\u001b[0m eta \u001b[36m0:00:00\u001b[0m\n",
            "\u001b[?25h  Preparing metadata (setup.py) ... \u001b[?25l\u001b[?25hdone\n",
            "Collecting numpy==1.22.0 (from -r requirements.txt (line 13))\n",
            "  Downloading numpy-1.22.0-cp310-cp310-manylinux_2_17_x86_64.manylinux2014_x86_64.whl (16.8 MB)\n",
            "\u001b[2K     \u001b[90m━━━━━━━━━━━━━━━━━━━━━━━━━━━━━━━━━━━━━━━━\u001b[0m \u001b[32m16.8/16.8 MB\u001b[0m \u001b[31m38.7 MB/s\u001b[0m eta \u001b[36m0:00:00\u001b[0m\n",
            "\u001b[?25hCollecting nvidia-ml-py3==7.352.0 (from -r requirements.txt (line 14))\n",
            "  Downloading nvidia-ml-py3-7.352.0.tar.gz (19 kB)\n",
            "  Preparing metadata (setup.py) ... \u001b[?25l\u001b[?25hdone\n",
            "Requirement already satisfied: opencv-contrib-python==4.7.0.72 in /usr/local/lib/python3.10/dist-packages (from -r requirements.txt (line 15)) (4.7.0.72)\n",
            "Collecting openpyxl==3.1.1 (from -r requirements.txt (line 16))\n",
            "  Downloading openpyxl-3.1.1-py2.py3-none-any.whl (249 kB)\n",
            "\u001b[2K     \u001b[90m━━━━━━━━━━━━━━━━━━━━━━━━━━━━━━━━━━━━━━\u001b[0m \u001b[32m249.8/249.8 kB\u001b[0m \u001b[31m28.7 MB/s\u001b[0m eta \u001b[36m0:00:00\u001b[0m\n",
            "\u001b[?25hRequirement already satisfied: pathlib==1.0.1 in /usr/local/lib/python3.10/dist-packages (from -r requirements.txt (line 17)) (1.0.1)\n",
            "Collecting Pillow==9.3.0 (from -r requirements.txt (line 18))\n",
            "  Downloading Pillow-9.3.0-cp310-cp310-manylinux_2_28_x86_64.whl (3.3 MB)\n",
            "\u001b[2K     \u001b[90m━━━━━━━━━━━━━━━━━━━━━━━━━━━━━━━━━━━━━━━━\u001b[0m \u001b[32m3.3/3.3 MB\u001b[0m \u001b[31m80.4 MB/s\u001b[0m eta \u001b[36m0:00:00\u001b[0m\n",
            "\u001b[?25hCollecting pip-tools==4.5.1 (from -r requirements.txt (line 19))\n",
            "  Downloading pip_tools-4.5.1-py2.py3-none-any.whl (41 kB)\n",
            "\u001b[2K     \u001b[90m━━━━━━━━━━━━━━━━━━━━━━━━━━━━━━━━━━━━━━━━\u001b[0m \u001b[32m41.5/41.5 kB\u001b[0m \u001b[31m4.9 MB/s\u001b[0m eta \u001b[36m0:00:00\u001b[0m\n",
            "\u001b[?25hCollecting pydot==1.3.0 (from -r requirements.txt (line 20))\n",
            "  Downloading pydot-1.3.0-py2.py3-none-any.whl (18 kB)\n",
            "Requirement already satisfied: pydot-ng==2.0.0 in /usr/local/lib/python3.10/dist-packages (from -r requirements.txt (line 21)) (2.0.0)\n",
            "Requirement already satisfied: pydotplus==2.0.2 in /usr/local/lib/python3.10/dist-packages (from -r requirements.txt (line 22)) (2.0.2)\n",
            "Collecting pygame==2.1.1 (from -r requirements.txt (line 23))\n",
            "  Downloading pygame-2.1.1-cp310-cp310-manylinux_2_17_x86_64.manylinux2014_x86_64.whl (21.8 MB)\n",
            "\u001b[2K     \u001b[90m━━━━━━━━━━━━━━━━━━━━━━━━━━━━━━━━━━━━━━━━\u001b[0m \u001b[32m21.8/21.8 MB\u001b[0m \u001b[31m5.6 MB/s\u001b[0m eta \u001b[36m0:00:00\u001b[0m\n",
            "\u001b[?25hCollecting pyglet==1.5.0 (from -r requirements.txt (line 24))\n",
            "  Downloading pyglet-1.5.0-py2.py3-none-any.whl (1.0 MB)\n",
            "\u001b[2K     \u001b[90m━━━━━━━━━━━━━━━━━━━━━━━━━━━━━━━━━━━━━━━━\u001b[0m \u001b[32m1.0/1.0 MB\u001b[0m \u001b[31m73.0 MB/s\u001b[0m eta \u001b[36m0:00:00\u001b[0m\n",
            "\u001b[?25hCollecting jedi>=0.16 (from -r requirements.txt (line 25))\n",
            "  Downloading jedi-0.18.2-py2.py3-none-any.whl (1.6 MB)\n",
            "\u001b[2K     \u001b[90m━━━━━━━━━━━━━━━━━━━━━━━━━━━━━━━━━━━━━━━━\u001b[0m \u001b[32m1.6/1.6 MB\u001b[0m \u001b[31m81.2 MB/s\u001b[0m eta \u001b[36m0:00:00\u001b[0m\n",
            "\u001b[?25hCollecting Pygments==2.13.0 (from -r requirements.txt (line 26))\n",
            "  Downloading Pygments-2.13.0-py3-none-any.whl (1.1 MB)\n",
            "\u001b[2K     \u001b[90m━━━━━━━━━━━━━━━━━━━━━━━━━━━━━━━━━━━━━━━━\u001b[0m \u001b[32m1.1/1.1 MB\u001b[0m \u001b[31m79.8 MB/s\u001b[0m eta \u001b[36m0:00:00\u001b[0m\n",
            "\u001b[?25hCollecting regex==2021.8.3 (from -r requirements.txt (line 27))\n",
            "  Downloading regex-2021.8.3.tar.gz (693 kB)\n",
            "\u001b[2K     \u001b[90m━━━━━━━━━━━━━━━━━━━━━━━━━━━━━━━━━━━━━━\u001b[0m \u001b[32m693.9/693.9 kB\u001b[0m \u001b[31m55.4 MB/s\u001b[0m eta \u001b[36m0:00:00\u001b[0m\n",
            "\u001b[?25h  Preparing metadata (setup.py) ... \u001b[?25l\u001b[?25hdone\n",
            "Collecting requests==2.27.0 (from -r requirements.txt (line 28))\n",
            "  Downloading requests-2.27.0-py2.py3-none-any.whl (63 kB)\n",
            "\u001b[2K     \u001b[90m━━━━━━━━━━━━━━━━━━━━━━━━━━━━━━━━━━━━━━━━\u001b[0m \u001b[32m63.1/63.1 kB\u001b[0m \u001b[31m6.1 MB/s\u001b[0m eta \u001b[36m0:00:00\u001b[0m\n",
            "\u001b[?25hCollecting requests-oauthlib==1.3.0 (from -r requirements.txt (line 29))\n",
            "  Downloading requests_oauthlib-1.3.0-py2.py3-none-any.whl (23 kB)\n",
            "Requirement already satisfied: scikit-image==0.19.3 in /usr/local/lib/python3.10/dist-packages (from -r requirements.txt (line 30)) (0.19.3)\n",
            "Collecting scikit-learn==1.0.2 (from -r requirements.txt (line 31))\n",
            "  Downloading scikit_learn-1.0.2-cp310-cp310-manylinux_2_17_x86_64.manylinux2014_x86_64.whl (26.5 MB)\n",
            "\u001b[2K     \u001b[90m━━━━━━━━━━━━━━━━━━━━━━━━━━━━━━━━━━━━━━━━\u001b[0m \u001b[32m26.5/26.5 MB\u001b[0m \u001b[31m45.7 MB/s\u001b[0m eta \u001b[36m0:00:00\u001b[0m\n",
            "\u001b[?25hCollecting scipy==1.8.0 (from -r requirements.txt (line 32))\n",
            "  Downloading scipy-1.8.0-cp310-cp310-manylinux_2_17_x86_64.manylinux2014_x86_64.whl (42.3 MB)\n",
            "\u001b[2K     \u001b[90m━━━━━━━━━━━━━━━━━━━━━━━━━━━━━━━━━━━━━━━━\u001b[0m \u001b[32m42.3/42.3 MB\u001b[0m \u001b[31m13.3 MB/s\u001b[0m eta \u001b[36m0:00:00\u001b[0m\n",
            "\u001b[?25hCollecting setuptools-git==1.2 (from -r requirements.txt (line 33))\n",
            "  Downloading setuptools_git-1.2-py2.py3-none-any.whl (10 kB)\n",
            "Collecting sklearn==0.0 (from -r requirements.txt (line 34))\n",
            "  Downloading sklearn-0.0.tar.gz (1.1 kB)\n",
            "  Preparing metadata (setup.py) ... \u001b[?25l\u001b[?25hdone\n",
            "Requirement already satisfied: torch==2.0.0 in /usr/local/lib/python3.10/dist-packages (from -r requirements.txt (line 35)) (2.0.0+cu118)\n",
            "Requirement already satisfied: torchsummary==1.5.1 in /usr/local/lib/python3.10/dist-packages (from -r requirements.txt (line 36)) (1.5.1)\n",
            "Collecting torchtext==0.3.1 (from -r requirements.txt (line 37))\n",
            "  Downloading torchtext-0.3.1-py3-none-any.whl (62 kB)\n",
            "\u001b[2K     \u001b[90m━━━━━━━━━━━━━━━━━━━━━━━━━━━━━━━━━━━━━━━━\u001b[0m \u001b[32m62.4/62.4 kB\u001b[0m \u001b[31m7.8 MB/s\u001b[0m eta \u001b[36m0:00:00\u001b[0m\n",
            "\u001b[?25hRequirement already satisfied: torchvision==0.15.1 in /usr/local/lib/python3.10/dist-packages (from -r requirements.txt (line 38)) (0.15.1+cu118)\n",
            "Requirement already satisfied: tornado==6.2.0 in /usr/local/lib/python3.10/dist-packages (from -r requirements.txt (line 39)) (6.2)\n",
            "Collecting tqdm==4.48.0 (from -r requirements.txt (line 40))\n",
            "  Downloading tqdm-4.48.0-py2.py3-none-any.whl (67 kB)\n",
            "\u001b[2K     \u001b[90m━━━━━━━━━━━━━━━━━━━━━━━━━━━━━━━━━━━━━━━━\u001b[0m \u001b[32m67.8/67.8 kB\u001b[0m \u001b[31m6.8 MB/s\u001b[0m eta \u001b[36m0:00:00\u001b[0m\n",
            "\u001b[?25hCollecting urllib3==1.25 (from -r requirements.txt (line 41))\n",
            "  Downloading urllib3-1.25-py2.py3-none-any.whl (149 kB)\n",
            "\u001b[2K     \u001b[90m━━━━━━━━━━━━━━━━━━━━━━━━━━━━━━━━━━━━━━\u001b[0m \u001b[32m149.9/149.9 kB\u001b[0m \u001b[31m17.8 MB/s\u001b[0m eta \u001b[36m0:00:00\u001b[0m\n",
            "\u001b[?25hRequirement already satisfied: future>=0.16.0 in /usr/local/lib/python3.10/dist-packages (from Augmentor==0.2.8->-r requirements.txt (line 1)) (0.18.3)\n",
            "Collecting django (from image==1.5.32->-r requirements.txt (line 6))\n",
            "  Downloading Django-4.2.1-py3-none-any.whl (8.0 MB)\n",
            "\u001b[2K     \u001b[90m━━━━━━━━━━━━━━━━━━━━━━━━━━━━━━━━━━━━━━━━\u001b[0m \u001b[32m8.0/8.0 MB\u001b[0m \u001b[31m104.9 MB/s\u001b[0m eta \u001b[36m0:00:00\u001b[0m\n",
            "\u001b[?25hRequirement already satisfied: six in /usr/local/lib/python3.10/dist-packages (from image==1.5.32->-r requirements.txt (line 6)) (1.16.0)\n",
            "Requirement already satisfied: audioread>=2.0.0 in /usr/local/lib/python3.10/dist-packages (from librosa==0.6.3->-r requirements.txt (line 9)) (3.0.0)\n",
            "Requirement already satisfied: joblib>=0.12 in /usr/local/lib/python3.10/dist-packages (from librosa==0.6.3->-r requirements.txt (line 9)) (1.2.0)\n",
            "Requirement already satisfied: decorator>=3.0.0 in /usr/local/lib/python3.10/dist-packages (from librosa==0.6.3->-r requirements.txt (line 9)) (4.4.2)\n",
            "Collecting resampy>=0.2.0 (from librosa==0.6.3->-r requirements.txt (line 9))\n",
            "  Downloading resampy-0.4.2-py3-none-any.whl (3.1 MB)\n",
            "\u001b[2K     \u001b[90m━━━━━━━━━━━━━━━━━━━━━━━━━━━━━━━━━━━━━━━━\u001b[0m \u001b[32m3.1/3.1 MB\u001b[0m \u001b[31m102.5 MB/s\u001b[0m eta \u001b[36m0:00:00\u001b[0m\n",
            "\u001b[?25hRequirement already satisfied: numba>=0.38.0 in /usr/local/lib/python3.10/dist-packages (from librosa==0.6.3->-r requirements.txt (line 9)) (0.56.4)\n",
            "Requirement already satisfied: cffi>=0.8 in /usr/local/lib/python3.10/dist-packages (from lmdb==0.98->-r requirements.txt (line 10)) (1.15.1)\n",
            "Requirement already satisfied: matplotlib in /usr/local/lib/python3.10/dist-packages (from matplotlib-venn==0.11.5->-r requirements.txt (line 11)) (3.7.1)\n",
            "Requirement already satisfied: et-xmlfile in /usr/local/lib/python3.10/dist-packages (from openpyxl==3.1.1->-r requirements.txt (line 16)) (1.1.0)\n",
            "Requirement already satisfied: click>=7 in /usr/local/lib/python3.10/dist-packages (from pip-tools==4.5.1->-r requirements.txt (line 19)) (8.1.3)\n",
            "Requirement already satisfied: pyparsing>=2.1.4 in /usr/local/lib/python3.10/dist-packages (from pydot==1.3.0->-r requirements.txt (line 20)) (3.0.9)\n",
            "Requirement already satisfied: certifi>=2017.4.17 in /usr/local/lib/python3.10/dist-packages (from requests==2.27.0->-r requirements.txt (line 28)) (2022.12.7)\n",
            "Requirement already satisfied: charset-normalizer~=2.0.0 in /usr/local/lib/python3.10/dist-packages (from requests==2.27.0->-r requirements.txt (line 28)) (2.0.12)\n",
            "Requirement already satisfied: idna<4,>=2.5 in /usr/local/lib/python3.10/dist-packages (from requests==2.27.0->-r requirements.txt (line 28)) (3.4)\n",
            "Requirement already satisfied: oauthlib>=3.0.0 in /usr/local/lib/python3.10/dist-packages (from requests-oauthlib==1.3.0->-r requirements.txt (line 29)) (3.2.2)\n",
            "Requirement already satisfied: networkx>=2.2 in /usr/local/lib/python3.10/dist-packages (from scikit-image==0.19.3->-r requirements.txt (line 30)) (3.1)\n",
            "Requirement already satisfied: tifffile>=2019.7.26 in /usr/local/lib/python3.10/dist-packages (from scikit-image==0.19.3->-r requirements.txt (line 30)) (2023.4.12)\n",
            "Requirement already satisfied: PyWavelets>=1.1.1 in /usr/local/lib/python3.10/dist-packages (from scikit-image==0.19.3->-r requirements.txt (line 30)) (1.4.1)\n",
            "Requirement already satisfied: packaging>=20.0 in /usr/local/lib/python3.10/dist-packages (from scikit-image==0.19.3->-r requirements.txt (line 30)) (23.1)\n",
            "Requirement already satisfied: threadpoolctl>=2.0.0 in /usr/local/lib/python3.10/dist-packages (from scikit-learn==1.0.2->-r requirements.txt (line 31)) (3.1.0)\n",
            "Requirement already satisfied: filelock in /usr/local/lib/python3.10/dist-packages (from torch==2.0.0->-r requirements.txt (line 35)) (3.12.0)\n",
            "Requirement already satisfied: typing-extensions in /usr/local/lib/python3.10/dist-packages (from torch==2.0.0->-r requirements.txt (line 35)) (4.5.0)\n",
            "Requirement already satisfied: sympy in /usr/local/lib/python3.10/dist-packages (from torch==2.0.0->-r requirements.txt (line 35)) (1.11.1)\n",
            "Requirement already satisfied: jinja2 in /usr/local/lib/python3.10/dist-packages (from torch==2.0.0->-r requirements.txt (line 35)) (3.1.2)\n",
            "Requirement already satisfied: triton==2.0.0 in /usr/local/lib/python3.10/dist-packages (from torch==2.0.0->-r requirements.txt (line 35)) (2.0.0)\n",
            "Requirement already satisfied: cmake in /usr/local/lib/python3.10/dist-packages (from triton==2.0.0->torch==2.0.0->-r requirements.txt (line 35)) (3.25.2)\n",
            "Requirement already satisfied: lit in /usr/local/lib/python3.10/dist-packages (from triton==2.0.0->torch==2.0.0->-r requirements.txt (line 35)) (16.0.3)\n",
            "Requirement already satisfied: parso<0.9.0,>=0.8.0 in /usr/local/lib/python3.10/dist-packages (from jedi>=0.16->-r requirements.txt (line 25)) (0.8.3)\n",
            "Requirement already satisfied: pycparser in /usr/local/lib/python3.10/dist-packages (from cffi>=0.8->lmdb==0.98->-r requirements.txt (line 10)) (2.21)\n",
            "Requirement already satisfied: llvmlite<0.40,>=0.39.0dev0 in /usr/local/lib/python3.10/dist-packages (from numba>=0.38.0->librosa==0.6.3->-r requirements.txt (line 9)) (0.39.1)\n",
            "Requirement already satisfied: setuptools in /usr/local/lib/python3.10/dist-packages (from numba>=0.38.0->librosa==0.6.3->-r requirements.txt (line 9)) (67.7.2)\n",
            "Collecting asgiref<4,>=3.6.0 (from django->image==1.5.32->-r requirements.txt (line 6))\n",
            "  Downloading asgiref-3.6.0-py3-none-any.whl (23 kB)\n",
            "Requirement already satisfied: sqlparse>=0.3.1 in /usr/local/lib/python3.10/dist-packages (from django->image==1.5.32->-r requirements.txt (line 6)) (0.4.4)\n",
            "Requirement already satisfied: MarkupSafe>=2.0 in /usr/local/lib/python3.10/dist-packages (from jinja2->torch==2.0.0->-r requirements.txt (line 35)) (2.1.2)\n",
            "Requirement already satisfied: contourpy>=1.0.1 in /usr/local/lib/python3.10/dist-packages (from matplotlib->matplotlib-venn==0.11.5->-r requirements.txt (line 11)) (1.0.7)\n",
            "Requirement already satisfied: cycler>=0.10 in /usr/local/lib/python3.10/dist-packages (from matplotlib->matplotlib-venn==0.11.5->-r requirements.txt (line 11)) (0.11.0)\n",
            "Requirement already satisfied: fonttools>=4.22.0 in /usr/local/lib/python3.10/dist-packages (from matplotlib->matplotlib-venn==0.11.5->-r requirements.txt (line 11)) (4.39.3)\n",
            "Requirement already satisfied: kiwisolver>=1.0.1 in /usr/local/lib/python3.10/dist-packages (from matplotlib->matplotlib-venn==0.11.5->-r requirements.txt (line 11)) (1.4.4)\n",
            "Requirement already satisfied: python-dateutil>=2.7 in /usr/local/lib/python3.10/dist-packages (from matplotlib->matplotlib-venn==0.11.5->-r requirements.txt (line 11)) (2.8.2)\n",
            "Requirement already satisfied: mpmath>=0.19 in /usr/local/lib/python3.10/dist-packages (from sympy->torch==2.0.0->-r requirements.txt (line 35)) (1.3.0)\n",
            "\u001b[33mWARNING: The candidate selected for download or install is a yanked version: 'urllib3' candidate (version 1.25 at https://files.pythonhosted.org/packages/81/9b/715e96377cc1f87e71d9d4259c6f88bf561a539622ba3042e73188e0bc2d/urllib3-1.25-py2.py3-none-any.whl (from https://pypi.org/simple/urllib3/) (requires-python:>=2.7, !=3.0.*, !=3.1.*, !=3.2.*, !=3.3.*, <4))\n",
            "Reason for being yanked: Broken release\u001b[0m\u001b[33m\n",
            "\u001b[0mBuilding wheels for collected packages: autograd, image, librosa, lmdb, matplotlib-venn, numexpr, nvidia-ml-py3, regex, sklearn\n",
            "  Building wheel for autograd (setup.py) ... \u001b[?25l\u001b[?25hdone\n",
            "  Created wheel for autograd: filename=autograd-1.3-py3-none-any.whl size=47972 sha256=b10bc801543ad4dd18ab18ebc8d90fccf8f1d298caeb046c61fdc42821915eeb\n",
            "  Stored in directory: /root/.cache/pip/wheels/ff/2d/38/602bb8b53d05bc9862d72e865a70a4bbaa8f70159e0d3833b1\n",
            "  Building wheel for image (setup.py) ... \u001b[?25l\u001b[?25hdone\n",
            "  Created wheel for image: filename=image-1.5.32-py2.py3-none-any.whl size=19474 sha256=b73b73ce32b628dfa8c365bde2162d330f8e80875d1cbd2158dc49b6303f8001\n",
            "  Stored in directory: /root/.cache/pip/wheels/77/09/94/2574b9f96a9616542014ffb7498466abd92bd604b1cea85886\n",
            "  Building wheel for librosa (setup.py) ... \u001b[?25l\u001b[?25hdone\n",
            "  Created wheel for librosa: filename=librosa-0.6.3-py3-none-any.whl size=1573324 sha256=f31ed98c1a33b06d61ec66d1a398ffb4650a02dca04bef118127628f728de368\n",
            "  Stored in directory: /root/.cache/pip/wheels/44/0f/a3/5b05a94da303a42f11f7d7ea85289f45f7995c470c9cc256fd\n",
            "  Building wheel for lmdb (setup.py) ... \u001b[?25l\u001b[?25hdone\n",
            "  Created wheel for lmdb: filename=lmdb-0.98-cp310-cp310-linux_x86_64.whl size=260535 sha256=b7dd745fd6707c6db2533626938f6750f5c0f7392d12000fb3e641220583d147\n",
            "  Stored in directory: /root/.cache/pip/wheels/07/40/67/62af391284e5720eee8f56c590ba72770b32e91461ed08c4c8\n",
            "  Building wheel for matplotlib-venn (setup.py) ... \u001b[?25l\u001b[?25hdone\n",
            "  Created wheel for matplotlib-venn: filename=matplotlib_venn-0.11.5-py3-none-any.whl size=32397 sha256=a8bde720a602215ac080f0361fc6dc450617c8d85ae6a0781b784cb0213b2230\n",
            "  Stored in directory: /root/.cache/pip/wheels/1f/41/7b/5fc6fd681428b6e29d9732fd973cd3ad5614a4f00c83be9d2d\n",
            "  Building wheel for numexpr (setup.py) ... \u001b[?25l\u001b[?25hdone\n",
            "  Created wheel for numexpr: filename=numexpr-2.7.1-cp310-cp310-linux_x86_64.whl size=445846 sha256=01ca6844e05804c2b79ef327bd71a2326816118ce865a0d2a52503b27c473286\n",
            "  Stored in directory: /root/.cache/pip/wheels/41/ec/32/5518d1d04166f9142b659417bf069a992186b04ebeb04c9a52\n",
            "  Building wheel for nvidia-ml-py3 (setup.py) ... \u001b[?25l\u001b[?25hdone\n",
            "  Created wheel for nvidia-ml-py3: filename=nvidia_ml_py3-7.352.0-py3-none-any.whl size=19171 sha256=24472180564e0539c0282fa9cfcf6ff2f9e6fa1bba9b2afaa0b219de7dfa0a19\n",
            "  Stored in directory: /root/.cache/pip/wheels/5c/d8/c0/46899f8be7a75a2ffd197a23c8797700ea858b9b34819fbf9e\n",
            "  Building wheel for regex (setup.py) ... \u001b[?25l\u001b[?25hdone\n",
            "  Created wheel for regex: filename=regex-2021.8.3-cp310-cp310-linux_x86_64.whl size=729874 sha256=b42db1c4cbc9f933b7603abea1cdaa028dc151e3babc01a6d19f1095ba26ed64\n",
            "  Stored in directory: /root/.cache/pip/wheels/0c/ed/7f/51dc08bff2f27279c3cbf901bf6d4bd43e15cf40078dfca13b\n",
            "  Building wheel for sklearn (setup.py) ... \u001b[?25l\u001b[?25hdone\n",
            "  Created wheel for sklearn: filename=sklearn-0.0-py2.py3-none-any.whl size=1302 sha256=fb65d4bf86009fca7ac3950c6a39c21b2d55606460ed8b12e8ab9fa807fe49a0\n",
            "  Stored in directory: /root/.cache/pip/wheels/9b/13/01/6f3a7fd641f90e1f6c8c7cded057f3394f451f340371c68f3d\n",
            "Successfully built autograd image librosa lmdb matplotlib-venn numexpr nvidia-ml-py3 regex sklearn\n",
            "Installing collected packages: setuptools-git, regex, nvidia-ml-py3, urllib3, tqdm, Pygments, pyglet, pygame, pydot, pip-tools, Pillow, openpyxl, numpy, jedi, imagesize, graphviz, fastprogress, cloudpickle, asgiref, scipy, requests, numexpr, lmdb, imageio, django, autograd, Augmentor, scikit-learn, resampy, requests-oauthlib, image, sklearn, matplotlib-venn, librosa, torchtext\n",
            "  Attempting uninstall: regex\n",
            "    Found existing installation: regex 2022.10.31\n",
            "    Uninstalling regex-2022.10.31:\n",
            "      Successfully uninstalled regex-2022.10.31\n",
            "  Attempting uninstall: urllib3\n",
            "    Found existing installation: urllib3 1.26.15\n",
            "    Uninstalling urllib3-1.26.15:\n",
            "      Successfully uninstalled urllib3-1.26.15\n",
            "  Attempting uninstall: tqdm\n",
            "    Found existing installation: tqdm 4.65.0\n",
            "    Uninstalling tqdm-4.65.0:\n",
            "      Successfully uninstalled tqdm-4.65.0\n",
            "  Attempting uninstall: Pygments\n",
            "    Found existing installation: Pygments 2.14.0\n",
            "    Uninstalling Pygments-2.14.0:\n",
            "      Successfully uninstalled Pygments-2.14.0\n",
            "  Attempting uninstall: pygame\n",
            "    Found existing installation: pygame 2.3.0\n",
            "    Uninstalling pygame-2.3.0:\n",
            "      Successfully uninstalled pygame-2.3.0\n",
            "  Attempting uninstall: pydot\n",
            "    Found existing installation: pydot 1.4.2\n",
            "    Uninstalling pydot-1.4.2:\n",
            "      Successfully uninstalled pydot-1.4.2\n",
            "  Attempting uninstall: pip-tools\n",
            "    Found existing installation: pip-tools 6.13.0\n",
            "    Uninstalling pip-tools-6.13.0:\n",
            "      Successfully uninstalled pip-tools-6.13.0\n",
            "  Attempting uninstall: Pillow\n",
            "    Found existing installation: Pillow 8.4.0\n",
            "    Uninstalling Pillow-8.4.0:\n",
            "      Successfully uninstalled Pillow-8.4.0\n",
            "  Attempting uninstall: openpyxl\n",
            "    Found existing installation: openpyxl 3.0.10\n",
            "    Uninstalling openpyxl-3.0.10:\n",
            "      Successfully uninstalled openpyxl-3.0.10\n",
            "  Attempting uninstall: numpy\n",
            "    Found existing installation: numpy 1.22.4\n",
            "    Uninstalling numpy-1.22.4:\n",
            "      Successfully uninstalled numpy-1.22.4\n",
            "  Attempting uninstall: imagesize\n",
            "    Found existing installation: imagesize 1.4.1\n",
            "    Uninstalling imagesize-1.4.1:\n",
            "      Successfully uninstalled imagesize-1.4.1\n",
            "  Attempting uninstall: graphviz\n",
            "    Found existing installation: graphviz 0.20.1\n",
            "    Uninstalling graphviz-0.20.1:\n",
            "      Successfully uninstalled graphviz-0.20.1\n",
            "  Attempting uninstall: fastprogress\n",
            "    Found existing installation: fastprogress 1.0.3\n",
            "    Uninstalling fastprogress-1.0.3:\n",
            "      Successfully uninstalled fastprogress-1.0.3\n",
            "  Attempting uninstall: cloudpickle\n",
            "    Found existing installation: cloudpickle 2.2.1\n",
            "    Uninstalling cloudpickle-2.2.1:\n",
            "      Successfully uninstalled cloudpickle-2.2.1\n",
            "  Attempting uninstall: scipy\n",
            "    Found existing installation: scipy 1.10.1\n",
            "    Uninstalling scipy-1.10.1:\n",
            "      Successfully uninstalled scipy-1.10.1\n",
            "  Attempting uninstall: requests\n",
            "    Found existing installation: requests 2.27.1\n",
            "    Uninstalling requests-2.27.1:\n",
            "      Successfully uninstalled requests-2.27.1\n",
            "  Attempting uninstall: numexpr\n",
            "    Found existing installation: numexpr 2.8.4\n",
            "    Uninstalling numexpr-2.8.4:\n",
            "      Successfully uninstalled numexpr-2.8.4\n",
            "  Attempting uninstall: imageio\n",
            "    Found existing installation: imageio 2.25.1\n",
            "    Uninstalling imageio-2.25.1:\n",
            "      Successfully uninstalled imageio-2.25.1\n",
            "  Attempting uninstall: autograd\n",
            "    Found existing installation: autograd 1.5\n",
            "    Uninstalling autograd-1.5:\n",
            "      Successfully uninstalled autograd-1.5\n",
            "  Attempting uninstall: scikit-learn\n",
            "    Found existing installation: scikit-learn 1.2.2\n",
            "    Uninstalling scikit-learn-1.2.2:\n",
            "      Successfully uninstalled scikit-learn-1.2.2\n",
            "  Attempting uninstall: requests-oauthlib\n",
            "    Found existing installation: requests-oauthlib 1.3.1\n",
            "    Uninstalling requests-oauthlib-1.3.1:\n",
            "      Successfully uninstalled requests-oauthlib-1.3.1\n",
            "  Attempting uninstall: matplotlib-venn\n",
            "    Found existing installation: matplotlib-venn 0.11.9\n",
            "    Uninstalling matplotlib-venn-0.11.9:\n",
            "      Successfully uninstalled matplotlib-venn-0.11.9\n",
            "  Attempting uninstall: librosa\n",
            "    Found existing installation: librosa 0.10.0.post2\n",
            "    Uninstalling librosa-0.10.0.post2:\n",
            "      Successfully uninstalled librosa-0.10.0.post2\n",
            "  Attempting uninstall: torchtext\n",
            "    Found existing installation: torchtext 0.15.1\n",
            "    Uninstalling torchtext-0.15.1:\n",
            "      Successfully uninstalled torchtext-0.15.1\n",
            "Successfully installed Augmentor-0.2.8 Pillow-9.3.0 Pygments-2.13.0 asgiref-3.6.0 autograd-1.3 cloudpickle-1.5.0 django-4.2.1 fastprogress-0.2.4 graphviz-0.10.1 image-1.5.32 imageio-2.5.0 imagesize-1.2.0 jedi-0.18.2 librosa-0.6.3 lmdb-0.98 matplotlib-venn-0.11.5 numexpr-2.7.1 numpy-1.22.0 nvidia-ml-py3-7.352.0 openpyxl-3.1.1 pip-tools-4.5.1 pydot-1.3.0 pygame-2.1.1 pyglet-1.5.0 regex-2021.8.3 requests-2.27.0 requests-oauthlib-1.3.0 resampy-0.4.2 scikit-learn-1.0.2 scipy-1.8.0 setuptools-git-1.2 sklearn-0.0 torchtext-0.3.1 tqdm-4.48.0 urllib3-1.25\n"
          ]
        },
        {
          "output_type": "display_data",
          "data": {
            "application/vnd.colab-display-data+json": {
              "pip_warning": {
                "packages": [
                  "PIL",
                  "numpy",
                  "pygments"
                ]
              }
            }
          },
          "metadata": {}
        }
      ]
    },
    {
      "cell_type": "markdown",
      "metadata": {
        "id": "YhRLTJiRokjM"
      },
      "source": [
        "# 새 섹션"
      ]
    },
    {
      "cell_type": "code",
      "source": [
        "!chmod +x data_script.sh"
      ],
      "metadata": {
        "id": "l7GUabiM166m"
      },
      "execution_count": 5,
      "outputs": []
    },
    {
      "cell_type": "code",
      "source": [
        "! ./data_script.sh"
      ],
      "metadata": {
        "colab": {
          "base_uri": "https://localhost:8080/"
        },
        "id": "t5_mzGJ71-Xh",
        "outputId": "4605f113-ffa7-4749-e899-bd0d8d9f2fd7"
      },
      "execution_count": 6,
      "outputs": [
        {
          "output_type": "stream",
          "name": "stdout",
          "text": [
            "setting up dirs (Wed 10 May 2023 02:43:19 AM UTC)\n",
            "This is /content/SRNet/\n",
            "Downloading background image names (Wed 10 May 2023 02:43:19 AM UTC)\n",
            "--2023-05-10 02:43:19--  https://thor.robots.ox.ac.uk/~vgg/data/scenetext/preproc/imnames.cp\n",
            "Resolving thor.robots.ox.ac.uk (thor.robots.ox.ac.uk)... 129.67.95.98\n",
            "Connecting to thor.robots.ox.ac.uk (thor.robots.ox.ac.uk)|129.67.95.98|:443... connected.\n",
            "HTTP request sent, awaiting response... 301 Moved Permanently\n",
            "Location: https://thor.robots.ox.ac.uk/datasets/SynthText/preproc/imnames.cp [following]\n",
            "--2023-05-10 02:43:19--  https://thor.robots.ox.ac.uk/datasets/SynthText/preproc/imnames.cp\n",
            "Reusing existing connection to thor.robots.ox.ac.uk:443.\n",
            "HTTP request sent, awaiting response... 200 OK\n",
            "Length: 183306 (179K) [application/octet-stream]\n",
            "Saving to: ‘imnames.cp’\n",
            "\n",
            "\rimnames.cp            0%[                    ]       0  --.-KB/s               \rimnames.cp          100%[===================>] 179.01K  --.-KB/s    in 0.03s   \n",
            "\n",
            "2023-05-10 02:43:19 (6.76 MB/s) - ‘imnames.cp’ saved [183306/183306]\n",
            "\n",
            "----------\n",
            "Downloading background images (Wed 10 May 2023 02:43:19 AM UTC)\n",
            "--2023-05-10 02:43:19--  https://thor.robots.ox.ac.uk/~vgg/data/scenetext/preproc/bg_img.tar.gz\n",
            "Resolving thor.robots.ox.ac.uk (thor.robots.ox.ac.uk)... 129.67.95.98\n",
            "Connecting to thor.robots.ox.ac.uk (thor.robots.ox.ac.uk)|129.67.95.98|:443... connected.\n",
            "HTTP request sent, awaiting response... 301 Moved Permanently\n",
            "Location: https://thor.robots.ox.ac.uk/datasets/SynthText/preproc/bg_img.tar.gz [following]\n",
            "--2023-05-10 02:43:19--  https://thor.robots.ox.ac.uk/datasets/SynthText/preproc/bg_img.tar.gz\n",
            "Reusing existing connection to thor.robots.ox.ac.uk:443.\n",
            "HTTP request sent, awaiting response... 200 OK\n",
            "Length: 9524471480 (8.9G) [application/octet-stream]\n",
            "Saving to: ‘bg_img.tar.gz’\n",
            "\n",
            "bg_img.tar.gz        11%[=>                  ]   1.02G  54.3MB/s    eta 70s    ^C\n"
          ]
        }
      ]
    },
    {
      "cell_type": "code",
      "source": [
        "!pwd"
      ],
      "metadata": {
        "colab": {
          "base_uri": "https://localhost:8080/"
        },
        "id": "TXqQXJvWgmDT",
        "outputId": "3622a35c-6e45-4fde-8788-573c08ea13d2"
      },
      "execution_count": null,
      "outputs": [
        {
          "output_type": "stream",
          "name": "stdout",
          "text": [
            "/content/SRNet\n"
          ]
        }
      ]
    },
    {
      "cell_type": "code",
      "source": [
        "from google.colab import drive\n",
        "drive.mount('/content/drive')"
      ],
      "metadata": {
        "colab": {
          "base_uri": "https://localhost:8080/"
        },
        "id": "mxM9KOIsdMVQ",
        "outputId": "8a2196fb-3d00-4ccb-8a1e-ba13365fb3c1"
      },
      "execution_count": null,
      "outputs": [
        {
          "output_type": "stream",
          "name": "stdout",
          "text": [
            "Drive already mounted at /content/drive; to attempt to forcibly remount, call drive.mount(\"/content/drive\", force_remount=True).\n"
          ]
        }
      ]
    },
    {
      "cell_type": "code",
      "source": [
        "!python3 predict.py --input_dir /content/SRNet/custom_feed/labels --save_dir /content/SRNet/custom_feed/result --checkpoint \"/content/drive/MyDrive/trained_final_5M_ (1).model\"\n"
      ],
      "metadata": {
        "id": "Cmdshk-B6WWi"
      },
      "execution_count": null,
      "outputs": []
    },
    {
      "cell_type": "code",
      "source": [
        "! python3 train.py"
      ],
      "metadata": {
        "id": "r1U0hwTVFV8m",
        "colab": {
          "base_uri": "https://localhost:8080/"
        },
        "outputId": "265235cd-ace5-44b0-9fa8-f802a269d3e0"
      },
      "execution_count": null,
      "outputs": [
        {
          "output_type": "stream",
          "name": "stdout",
          "text": [
            "\u001b[0;34m[2023-05-09 08:12:34.522]\u001b[0m \u001b[0;33mInitializing SRNET\u001b[0m\n",
            "\u001b[0;34m[2023-05-09 08:12:34.522]\u001b[0m \u001b[0;33mtraining start.\u001b[0m\n",
            "/usr/local/lib/python3.10/dist-packages/torchvision/models/_utils.py:208: UserWarning: The parameter 'pretrained' is deprecated since 0.13 and may be removed in the future, please use 'weights' instead.\n",
            "  warnings.warn(\n",
            "/usr/local/lib/python3.10/dist-packages/torchvision/models/_utils.py:223: UserWarning: Arguments other than a weight enum or `None` for 'weights' are deprecated since 0.13 and may be removed in the future. The current behavior is equivalent to passing `weights=VGG19_Weights.IMAGENET1K_V1`. You can also use `weights=VGG19_Weights.DEFAULT` to get the most up-to-date weights.\n",
            "  warnings.warn(msg)\n",
            "checkpoint not found\n",
            "  0% 49/500000 [00:22<62:36:05,  2.22it/s]Iter: 50/500000 | Gen: 32.05293655395508 | D_bg: 9.45913314819336 | D_fus: 8.172805786132812\n",
            "  0% 57/500000 [00:27<66:21:22,  2.09it/s]\n",
            "Traceback (most recent call last):\n",
            "  File \"/content/SRNet/train.py\", line 364, in <module>\n",
            "    main()\n",
            "  File \"/content/SRNet/train.py\", line 207, in main\n",
            "    i_t, i_s, t_sk, t_t, t_b, t_f, mask_t = next(trainiter)\n",
            "  File \"/usr/local/lib/python3.10/dist-packages/torch/utils/data/dataloader.py\", line 634, in __next__\n",
            "    data = self._next_data()\n",
            "  File \"/usr/local/lib/python3.10/dist-packages/torch/utils/data/dataloader.py\", line 678, in _next_data\n",
            "    data = self._dataset_fetcher.fetch(index)  # may raise StopIteration\n",
            "  File \"/usr/local/lib/python3.10/dist-packages/torch/utils/data/_utils/fetch.py\", line 54, in fetch\n",
            "    return self.collate_fn(data)\n",
            "  File \"/content/SRNet/train.py\", line 51, in custom_collate\n",
            "    i_t = resize(i_t, to_scale, preserve_range=True)\n",
            "  File \"/usr/local/lib/python3.10/dist-packages/skimage/transform/_warps.py\", line 187, in resize\n",
            "    out = ndi.zoom(image, zoom_factors, order=order, mode=ndi_mode,\n",
            "  File \"/usr/local/lib/python3.10/dist-packages/scipy/ndimage/_interpolation.py\", line 816, in zoom\n",
            "    _nd_image.zoom_shift(filtered, zoom, None, output, order, mode, cval, npad,\n",
            "KeyboardInterrupt\n",
            "^C\n"
          ]
        }
      ]
    },
    {
      "cell_type": "code",
      "source": [],
      "metadata": {
        "id": "tVwX_JgNBtYa"
      },
      "execution_count": null,
      "outputs": []
    },
    {
      "cell_type": "code",
      "source": [],
      "metadata": {
        "id": "YDei3rcmkbvb"
      },
      "execution_count": null,
      "outputs": []
    }
  ],
  "metadata": {
    "accelerator": "GPU",
    "colab": {
      "provenance": [],
      "include_colab_link": true
    },
    "gpuClass": "standard",
    "kernelspec": {
      "display_name": "Python 3",
      "name": "python3"
    },
    "language_info": {
      "name": "python"
    }
  },
  "nbformat": 4,
  "nbformat_minor": 0
}